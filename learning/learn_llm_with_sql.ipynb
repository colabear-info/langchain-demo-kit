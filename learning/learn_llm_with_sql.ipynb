{
 "cells": [
  {
   "cell_type": "markdown",
   "id": "a7762f22",
   "metadata": {},
   "source": [
    "# For Langchain Learns\n",
    "\n",
    "[https://github.com/langchain-ai/langchain/blob/52052cc7b9a3712fe125e4c29f7c7826bbc58a61/libs/langchain/langchain/agents/agent_toolkits/sql/toolkit.py#L18](github)"
   ]
  },
  {
   "cell_type": "markdown",
   "id": "ab977e4c",
   "metadata": {},
   "source": []
  },
  {
   "cell_type": "code",
   "execution_count": 4,
   "id": "398d0093",
   "metadata": {},
   "outputs": [],
   "source": [
    "import sqlalchemy as db\n"
   ]
  },
  {
   "cell_type": "code",
   "execution_count": 5,
   "id": "b615d5da",
   "metadata": {},
   "outputs": [],
   "source": [
    "engine = db.create_engine(\"sqlite:///./database/chinook-database/ChinookDatabase/DataSources/Chinook.db\")\n",
    "\n",
    "conn = engine.connect() "
   ]
  },
  {
   "cell_type": "code",
   "execution_count": 7,
   "id": "724ddce4",
   "metadata": {},
   "outputs": [],
   "source": [
    "metadata = db.MetaData()"
   ]
  },
  {
   "cell_type": "code",
   "execution_count": 11,
   "id": "2c1e6d20",
   "metadata": {},
   "outputs": [],
   "source": [
    "# metadata = MetaData()\n",
    "metadata.reflect(bind=engine)"
   ]
  },
  {
   "cell_type": "code",
   "execution_count": 14,
   "id": "1d0336c1",
   "metadata": {},
   "outputs": [
    {
     "data": {
      "text/plain": [
       "dict_keys(['Album', 'Artist', 'Customer', 'Employee', 'Genre', 'Invoice', 'InvoiceLine', 'Track', 'MediaType', 'Playlist', 'PlaylistTrack'])"
      ]
     },
     "execution_count": 14,
     "metadata": {},
     "output_type": "execute_result"
    }
   ],
   "source": [
    "metadata.tables.keys()"
   ]
  },
  {
   "cell_type": "code",
   "execution_count": 20,
   "id": "9f296f8b",
   "metadata": {
    "scrolled": true
   },
   "outputs": [],
   "source": [
    "album_table = metadata.tables['Album']"
   ]
  },
  {
   "cell_type": "code",
   "execution_count": 34,
   "id": "8222f832",
   "metadata": {},
   "outputs": [
    {
     "data": {
      "text/plain": [
       "['AlbumId', 'Title', 'ArtistId']"
      ]
     },
     "execution_count": 34,
     "metadata": {},
     "output_type": "execute_result"
    }
   ],
   "source": [
    "album_table.columns.keys()"
   ]
  },
  {
   "cell_type": "code",
   "execution_count": 24,
   "id": "3e9c43fa",
   "metadata": {},
   "outputs": [
    {
     "name": "stdout",
     "output_type": "stream",
     "text": [
      "(1, 'For Those About To Rock We Salute You', 1)\n",
      "(2, 'Balls to the Wall', 2)\n",
      "(3, 'Restless and Wild', 2)\n",
      "(4, 'Let There Be Rock', 1)\n",
      "(5, 'Big Ones', 3)\n",
      "(6, 'Jagged Little Pill', 4)\n",
      "(7, 'Facelift', 5)\n",
      "(8, 'Warner 25 Anos', 6)\n",
      "(9, 'Plays Metallica By Four Cellos', 7)\n",
      "(10, 'Audioslave', 8)\n"
     ]
    }
   ],
   "source": [
    "with engine.connect() as connection:\n",
    "    result = connection.execute('select * from Album limit 10')\n",
    "    for row in result:\n",
    "        print(row)"
   ]
  },
  {
   "cell_type": "code",
   "execution_count": null,
   "id": "486af7d1",
   "metadata": {},
   "outputs": [],
   "source": []
  }
 ],
 "metadata": {
  "kernelspec": {
   "display_name": "Python 3 (ipykernel)",
   "language": "python",
   "name": "python3"
  },
  "language_info": {
   "codemirror_mode": {
    "name": "ipython",
    "version": 3
   },
   "file_extension": ".py",
   "mimetype": "text/x-python",
   "name": "python",
   "nbconvert_exporter": "python",
   "pygments_lexer": "ipython3",
   "version": "3.9.12"
  }
 },
 "nbformat": 4,
 "nbformat_minor": 5
}
